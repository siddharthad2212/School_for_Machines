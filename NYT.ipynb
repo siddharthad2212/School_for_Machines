{
 "cells": [
  {
   "cell_type": "code",
   "execution_count": 25,
   "metadata": {
    "collapsed": true
   },
   "outputs": [],
   "source": [
    "import pandas as pd\n",
    "df=pd.read_csv('/home/siddhartha/Downloads/NY_TAXI.csv')"
   ]
  },
  {
   "cell_type": "code",
   "execution_count": 26,
   "metadata": {
    "collapsed": true
   },
   "outputs": [],
   "source": [
    "d={'N':0,'Y':1}\n",
    "#Change the value of Y or N to 1 or 0\n",
    "df=df.replace({\"store_and_fwd_flag\":d})"
   ]
  },
  {
   "cell_type": "code",
   "execution_count": 27,
   "metadata": {
    "collapsed": true
   },
   "outputs": [],
   "source": [
    "#Changing the date object to datetype.\n",
    "\n",
    "df['tpep_pickup_datetime']=pd.to_datetime(df['tpep_pickup_datetime'])\n",
    "df['tpep_dropoff_datetime']=pd.to_datetime(df['tpep_dropoff_datetime'])"
   ]
  },
  {
   "cell_type": "code",
   "execution_count": 28,
   "metadata": {
    "collapsed": true
   },
   "outputs": [],
   "source": [
    "#Calculating the time of journey in minutes.\n",
    "\n",
    "from datetime import timedelta\n",
    "df['time']=(df['tpep_dropoff_datetime'] - df['tpep_pickup_datetime'])/timedelta(minutes=1)"
   ]
  },
  {
   "cell_type": "code",
   "execution_count": 29,
   "metadata": {},
   "outputs": [],
   "source": [
    "#Importing the necessary algorithms for calculating the accuracy\n",
    "\n",
    "from sklearn.linear_model import LogisticRegression\n",
    "from sklearn.linear_model import LinearRegression\n",
    "from sklearn.cross_validation import train_test_split\n",
    "from sklearn import metrics\n",
    "from sklearn.tree import DecisionTreeClassifier\n",
    "from sklearn.ensemble import RandomForestClassifier\n",
    "from sklearn.metrics import mean_squared_error\n",
    "from sklearn.ensemble import RandomForestRegressor\n",
    "from sklearn.ensemble import GradientBoostingRegressor\n",
    "from sklearn.ensemble import AdaBoostRegressor\n",
    "from sklearn.preprocessing import Imputer\n",
    "from sklearn.preprocessing import StandardScaler\n",
    "from sklearn.neural_network import MLPRegressor"
   ]
  },
  {
   "cell_type": "code",
   "execution_count": 30,
   "metadata": {
    "collapsed": true
   },
   "outputs": [],
   "source": [
    "import numpy as np\n",
    "df=df.replace(np.nan, 0)"
   ]
  },
  {
   "cell_type": "code",
   "execution_count": 31,
   "metadata": {
    "collapsed": true
   },
   "outputs": [],
   "source": [
    "train,test=train_test_split(df, test_size=0.28, random_state=1212)"
   ]
  },
  {
   "cell_type": "code",
   "execution_count": 32,
   "metadata": {},
   "outputs": [],
   "source": [
    "df['col1']=df['total_amount']/df['trip_distance']"
   ]
  },
  {
   "cell_type": "code",
   "execution_count": 33,
   "metadata": {},
   "outputs": [
    {
     "data": {
      "text/plain": [
       "0             4.636364\n",
       "1             8.055556\n",
       "2             6.636364\n",
       "3             7.727273\n",
       "4          2640.000000\n",
       "5            10.600000\n",
       "6             3.607742\n",
       "7            10.937500\n",
       "8             9.222222\n",
       "9             4.715909\n",
       "10            4.551358\n",
       "11            4.916667\n",
       "12            5.579365\n",
       "13           11.500000\n",
       "14            5.555556\n",
       "15            6.369231\n",
       "16            4.188235\n",
       "17           14.615385\n",
       "18            6.959064\n",
       "19            3.681818\n",
       "20           10.600000\n",
       "21            8.791667\n",
       "22            6.352941\n",
       "23            3.264151\n",
       "24           21.500000\n",
       "25            4.754274\n",
       "26            5.947368\n",
       "27            8.238095\n",
       "28            5.381818\n",
       "29                 inf\n",
       "              ...     \n",
       "5014856       9.000000\n",
       "5014857       7.800000\n",
       "5014858       7.699387\n",
       "5014859       7.560976\n",
       "5014860       8.800000\n",
       "5014861       6.614634\n",
       "5014862      21.500000\n",
       "5014863      11.848101\n",
       "5014864       7.516129\n",
       "5014865       5.963855\n",
       "5014866      11.607143\n",
       "5014867       6.555556\n",
       "5014868       9.088757\n",
       "5014869       6.341463\n",
       "5014870       8.115385\n",
       "5014871      11.117647\n",
       "5014872       5.782609\n",
       "5014873       9.437500\n",
       "5014874       7.545455\n",
       "5014875       7.153846\n",
       "5014876       7.385892\n",
       "5014877      11.307692\n",
       "5014878       8.287938\n",
       "5014879      11.722222\n",
       "5014880      12.571429\n",
       "5014881       6.290909\n",
       "5014882            inf\n",
       "5014883           -inf\n",
       "5014884       6.500000\n",
       "5014885            NaN\n",
       "Name: col1, Length: 5014886, dtype: float64"
      ]
     },
     "execution_count": 33,
     "metadata": {},
     "output_type": "execute_result"
    }
   ],
   "source": [
    "df['col1']"
   ]
  },
  {
   "cell_type": "code",
   "execution_count": 34,
   "metadata": {
    "collapsed": true
   },
   "outputs": [],
   "source": [
    "df=df.replace(np.nan,0)"
   ]
  },
  {
   "cell_type": "code",
   "execution_count": 35,
   "metadata": {},
   "outputs": [],
   "source": [
    "df=df[(df['col1'] > 3.000000) & (df['col1'] < 22.000000)]"
   ]
  },
  {
   "cell_type": "code",
   "execution_count": 36,
   "metadata": {},
   "outputs": [
    {
     "data": {
      "text/plain": [
       "(4903387, 19)"
      ]
     },
     "execution_count": 36,
     "metadata": {},
     "output_type": "execute_result"
    }
   ],
   "source": [
    "df.shape"
   ]
  },
  {
   "cell_type": "code",
   "execution_count": 37,
   "metadata": {
    "collapsed": true
   },
   "outputs": [],
   "source": [
    "df['col2']=df['trip_distance']/df['time']"
   ]
  },
  {
   "cell_type": "code",
   "execution_count": 38,
   "metadata": {
    "scrolled": true
   },
   "outputs": [
    {
     "data": {
      "text/plain": [
       "0          0.268657\n",
       "1          0.252336\n",
       "2          0.293333\n",
       "3          0.204334\n",
       "5          0.131579\n",
       "6          0.197034\n",
       "7          0.115663\n",
       "8          0.106299\n",
       "9          0.353177\n",
       "10         0.545865\n",
       "11         0.202817\n",
       "12         0.535790\n",
       "13         0.102467\n",
       "14         0.258511\n",
       "15         0.162669\n",
       "16         0.234807\n",
       "17         0.085714\n",
       "18         0.100000\n",
       "19         0.267206\n",
       "20         0.188679\n",
       "21         0.145161\n",
       "22         0.134034\n",
       "23         0.552083\n",
       "24         0.235294\n",
       "25         0.303240\n",
       "26         0.152203\n",
       "27         0.085193\n",
       "28         0.206508\n",
       "30         0.154286\n",
       "31         0.078750\n",
       "             ...   \n",
       "5014853    0.085020\n",
       "5014854    0.102902\n",
       "5014855    0.154331\n",
       "5014856    0.112000\n",
       "5014857    0.126050\n",
       "5014858    0.111136\n",
       "5014859    0.145562\n",
       "5014860    0.096774\n",
       "5014861    0.147659\n",
       "5014862    0.071429\n",
       "5014863    0.093491\n",
       "5014864    0.091087\n",
       "5014865    0.171606\n",
       "5014866    0.101818\n",
       "5014867    0.110317\n",
       "5014868    0.093715\n",
       "5014869    0.171230\n",
       "5014870    0.134251\n",
       "5014871    0.124771\n",
       "5014872    0.129577\n",
       "5014873    0.153355\n",
       "5014874    0.116402\n",
       "5014875    0.157895\n",
       "5014876    0.101831\n",
       "5014877    0.086188\n",
       "5014878    0.086001\n",
       "5014879    0.088380\n",
       "5014880    0.074468\n",
       "5014881    0.253846\n",
       "5014884    0.150943\n",
       "Name: col2, Length: 4903387, dtype: float64"
      ]
     },
     "execution_count": 38,
     "metadata": {},
     "output_type": "execute_result"
    }
   ],
   "source": [
    "df['col2']"
   ]
  },
  {
   "cell_type": "code",
   "execution_count": 56,
   "metadata": {
    "collapsed": true
   },
   "outputs": [],
   "source": [
    "df=df[(df['col2'] > 0.100000) & (df['col2'] < 0.600000)]"
   ]
  },
  {
   "cell_type": "code",
   "execution_count": 57,
   "metadata": {
    "scrolled": true
   },
   "outputs": [
    {
     "data": {
      "text/html": [
       "<div>\n",
       "<style>\n",
       "    .dataframe thead tr:only-child th {\n",
       "        text-align: right;\n",
       "    }\n",
       "\n",
       "    .dataframe thead th {\n",
       "        text-align: left;\n",
       "    }\n",
       "\n",
       "    .dataframe tbody tr th {\n",
       "        vertical-align: top;\n",
       "    }\n",
       "</style>\n",
       "<table border=\"1\" class=\"dataframe\">\n",
       "  <thead>\n",
       "    <tr style=\"text-align: right;\">\n",
       "      <th></th>\n",
       "      <th>VendorID</th>\n",
       "      <th>passenger_count</th>\n",
       "      <th>trip_distance</th>\n",
       "      <th>RatecodeID</th>\n",
       "      <th>store_and_fwd_flag</th>\n",
       "      <th>PULocationID</th>\n",
       "      <th>DOLocationID</th>\n",
       "      <th>payment_type</th>\n",
       "      <th>fare_amount</th>\n",
       "      <th>extra</th>\n",
       "      <th>mta_tax</th>\n",
       "      <th>tip_amount</th>\n",
       "      <th>tolls_amount</th>\n",
       "      <th>improvement_surcharge</th>\n",
       "      <th>total_amount</th>\n",
       "      <th>time</th>\n",
       "      <th>col1</th>\n",
       "      <th>col2</th>\n",
       "    </tr>\n",
       "  </thead>\n",
       "  <tbody>\n",
       "    <tr>\n",
       "      <th>count</th>\n",
       "      <td>4.425231e+06</td>\n",
       "      <td>4.425231e+06</td>\n",
       "      <td>4.425231e+06</td>\n",
       "      <td>4.425231e+06</td>\n",
       "      <td>4.425231e+06</td>\n",
       "      <td>4.425231e+06</td>\n",
       "      <td>4.425231e+06</td>\n",
       "      <td>4.425231e+06</td>\n",
       "      <td>4.425231e+06</td>\n",
       "      <td>4.425231e+06</td>\n",
       "      <td>4.425231e+06</td>\n",
       "      <td>4.425231e+06</td>\n",
       "      <td>4.425231e+06</td>\n",
       "      <td>4.425231e+06</td>\n",
       "      <td>4.425231e+06</td>\n",
       "      <td>4.425231e+06</td>\n",
       "      <td>4.425231e+06</td>\n",
       "      <td>4.425231e+06</td>\n",
       "    </tr>\n",
       "    <tr>\n",
       "      <th>mean</th>\n",
       "      <td>1.554277e+00</td>\n",
       "      <td>1.647812e+00</td>\n",
       "      <td>2.835420e+00</td>\n",
       "      <td>1.022906e+00</td>\n",
       "      <td>3.963635e-03</td>\n",
       "      <td>1.634097e+02</td>\n",
       "      <td>1.608280e+02</td>\n",
       "      <td>1.339193e+00</td>\n",
       "      <td>1.190348e+01</td>\n",
       "      <td>3.201749e-01</td>\n",
       "      <td>4.989460e-01</td>\n",
       "      <td>1.697876e+00</td>\n",
       "      <td>2.589631e-01</td>\n",
       "      <td>2.999992e-01</td>\n",
       "      <td>1.498400e+01</td>\n",
       "      <td>1.257729e+01</td>\n",
       "      <td>6.987483e+00</td>\n",
       "      <td>2.075704e-01</td>\n",
       "    </tr>\n",
       "    <tr>\n",
       "      <th>std</th>\n",
       "      <td>4.970453e-01</td>\n",
       "      <td>1.282734e+00</td>\n",
       "      <td>3.301652e+00</td>\n",
       "      <td>1.927017e-01</td>\n",
       "      <td>6.283252e-02</td>\n",
       "      <td>6.755783e+01</td>\n",
       "      <td>7.178781e+01</td>\n",
       "      <td>4.857642e-01</td>\n",
       "      <td>9.671028e+00</td>\n",
       "      <td>4.227552e-01</td>\n",
       "      <td>3.522697e-02</td>\n",
       "      <td>2.270878e+00</td>\n",
       "      <td>1.299281e+00</td>\n",
       "      <td>4.940187e-04</td>\n",
       "      <td>1.211964e+01</td>\n",
       "      <td>9.785920e+00</td>\n",
       "      <td>2.598559e+00</td>\n",
       "      <td>9.006439e-02</td>\n",
       "    </tr>\n",
       "    <tr>\n",
       "      <th>min</th>\n",
       "      <td>1.000000e+00</td>\n",
       "      <td>0.000000e+00</td>\n",
       "      <td>1.000000e-01</td>\n",
       "      <td>1.000000e+00</td>\n",
       "      <td>0.000000e+00</td>\n",
       "      <td>1.000000e+00</td>\n",
       "      <td>1.000000e+00</td>\n",
       "      <td>1.000000e+00</td>\n",
       "      <td>0.000000e+00</td>\n",
       "      <td>-5.520000e+01</td>\n",
       "      <td>0.000000e+00</td>\n",
       "      <td>0.000000e+00</td>\n",
       "      <td>0.000000e+00</td>\n",
       "      <td>0.000000e+00</td>\n",
       "      <td>3.100000e-01</td>\n",
       "      <td>3.166667e-01</td>\n",
       "      <td>3.000000e+00</td>\n",
       "      <td>1.000000e-01</td>\n",
       "    </tr>\n",
       "    <tr>\n",
       "      <th>25%</th>\n",
       "      <td>1.000000e+00</td>\n",
       "      <td>1.000000e+00</td>\n",
       "      <td>1.000000e+00</td>\n",
       "      <td>1.000000e+00</td>\n",
       "      <td>0.000000e+00</td>\n",
       "      <td>1.140000e+02</td>\n",
       "      <td>1.070000e+02</td>\n",
       "      <td>1.000000e+00</td>\n",
       "      <td>6.000000e+00</td>\n",
       "      <td>0.000000e+00</td>\n",
       "      <td>5.000000e-01</td>\n",
       "      <td>0.000000e+00</td>\n",
       "      <td>0.000000e+00</td>\n",
       "      <td>3.000000e-01</td>\n",
       "      <td>8.160000e+00</td>\n",
       "      <td>6.016667e+00</td>\n",
       "      <td>5.113043e+00</td>\n",
       "      <td>1.436170e-01</td>\n",
       "    </tr>\n",
       "    <tr>\n",
       "      <th>50%</th>\n",
       "      <td>2.000000e+00</td>\n",
       "      <td>1.000000e+00</td>\n",
       "      <td>1.700000e+00</td>\n",
       "      <td>1.000000e+00</td>\n",
       "      <td>0.000000e+00</td>\n",
       "      <td>1.620000e+02</td>\n",
       "      <td>1.620000e+02</td>\n",
       "      <td>1.000000e+00</td>\n",
       "      <td>9.000000e+00</td>\n",
       "      <td>0.000000e+00</td>\n",
       "      <td>5.000000e-01</td>\n",
       "      <td>1.260000e+00</td>\n",
       "      <td>0.000000e+00</td>\n",
       "      <td>3.000000e-01</td>\n",
       "      <td>1.116000e+01</td>\n",
       "      <td>9.866667e+00</td>\n",
       "      <td>6.537313e+00</td>\n",
       "      <td>1.832061e-01</td>\n",
       "    </tr>\n",
       "    <tr>\n",
       "      <th>75%</th>\n",
       "      <td>2.000000e+00</td>\n",
       "      <td>2.000000e+00</td>\n",
       "      <td>3.100000e+00</td>\n",
       "      <td>1.000000e+00</td>\n",
       "      <td>0.000000e+00</td>\n",
       "      <td>2.340000e+02</td>\n",
       "      <td>2.340000e+02</td>\n",
       "      <td>2.000000e+00</td>\n",
       "      <td>1.350000e+01</td>\n",
       "      <td>5.000000e-01</td>\n",
       "      <td>5.000000e-01</td>\n",
       "      <td>2.250000e+00</td>\n",
       "      <td>0.000000e+00</td>\n",
       "      <td>3.000000e-01</td>\n",
       "      <td>1.656000e+01</td>\n",
       "      <td>1.601667e+01</td>\n",
       "      <td>8.289474e+00</td>\n",
       "      <td>2.433673e-01</td>\n",
       "    </tr>\n",
       "    <tr>\n",
       "      <th>max</th>\n",
       "      <td>2.000000e+00</td>\n",
       "      <td>9.000000e+00</td>\n",
       "      <td>7.185000e+01</td>\n",
       "      <td>6.000000e+00</td>\n",
       "      <td>1.000000e+00</td>\n",
       "      <td>2.650000e+02</td>\n",
       "      <td>2.650000e+02</td>\n",
       "      <td>4.000000e+00</td>\n",
       "      <td>3.550000e+02</td>\n",
       "      <td>4.540000e+00</td>\n",
       "      <td>5.650000e+01</td>\n",
       "      <td>3.060000e+02</td>\n",
       "      <td>1.066200e+02</td>\n",
       "      <td>3.000000e-01</td>\n",
       "      <td>4.913000e+02</td>\n",
       "      <td>2.855500e+02</td>\n",
       "      <td>2.198750e+01</td>\n",
       "      <td>6.000000e-01</td>\n",
       "    </tr>\n",
       "  </tbody>\n",
       "</table>\n",
       "</div>"
      ],
      "text/plain": [
       "           VendorID  passenger_count  trip_distance    RatecodeID  \\\n",
       "count  4.425231e+06     4.425231e+06   4.425231e+06  4.425231e+06   \n",
       "mean   1.554277e+00     1.647812e+00   2.835420e+00  1.022906e+00   \n",
       "std    4.970453e-01     1.282734e+00   3.301652e+00  1.927017e-01   \n",
       "min    1.000000e+00     0.000000e+00   1.000000e-01  1.000000e+00   \n",
       "25%    1.000000e+00     1.000000e+00   1.000000e+00  1.000000e+00   \n",
       "50%    2.000000e+00     1.000000e+00   1.700000e+00  1.000000e+00   \n",
       "75%    2.000000e+00     2.000000e+00   3.100000e+00  1.000000e+00   \n",
       "max    2.000000e+00     9.000000e+00   7.185000e+01  6.000000e+00   \n",
       "\n",
       "       store_and_fwd_flag  PULocationID  DOLocationID  payment_type  \\\n",
       "count        4.425231e+06  4.425231e+06  4.425231e+06  4.425231e+06   \n",
       "mean         3.963635e-03  1.634097e+02  1.608280e+02  1.339193e+00   \n",
       "std          6.283252e-02  6.755783e+01  7.178781e+01  4.857642e-01   \n",
       "min          0.000000e+00  1.000000e+00  1.000000e+00  1.000000e+00   \n",
       "25%          0.000000e+00  1.140000e+02  1.070000e+02  1.000000e+00   \n",
       "50%          0.000000e+00  1.620000e+02  1.620000e+02  1.000000e+00   \n",
       "75%          0.000000e+00  2.340000e+02  2.340000e+02  2.000000e+00   \n",
       "max          1.000000e+00  2.650000e+02  2.650000e+02  4.000000e+00   \n",
       "\n",
       "        fare_amount         extra       mta_tax    tip_amount  tolls_amount  \\\n",
       "count  4.425231e+06  4.425231e+06  4.425231e+06  4.425231e+06  4.425231e+06   \n",
       "mean   1.190348e+01  3.201749e-01  4.989460e-01  1.697876e+00  2.589631e-01   \n",
       "std    9.671028e+00  4.227552e-01  3.522697e-02  2.270878e+00  1.299281e+00   \n",
       "min    0.000000e+00 -5.520000e+01  0.000000e+00  0.000000e+00  0.000000e+00   \n",
       "25%    6.000000e+00  0.000000e+00  5.000000e-01  0.000000e+00  0.000000e+00   \n",
       "50%    9.000000e+00  0.000000e+00  5.000000e-01  1.260000e+00  0.000000e+00   \n",
       "75%    1.350000e+01  5.000000e-01  5.000000e-01  2.250000e+00  0.000000e+00   \n",
       "max    3.550000e+02  4.540000e+00  5.650000e+01  3.060000e+02  1.066200e+02   \n",
       "\n",
       "       improvement_surcharge  total_amount          time          col1  \\\n",
       "count           4.425231e+06  4.425231e+06  4.425231e+06  4.425231e+06   \n",
       "mean            2.999992e-01  1.498400e+01  1.257729e+01  6.987483e+00   \n",
       "std             4.940187e-04  1.211964e+01  9.785920e+00  2.598559e+00   \n",
       "min             0.000000e+00  3.100000e-01  3.166667e-01  3.000000e+00   \n",
       "25%             3.000000e-01  8.160000e+00  6.016667e+00  5.113043e+00   \n",
       "50%             3.000000e-01  1.116000e+01  9.866667e+00  6.537313e+00   \n",
       "75%             3.000000e-01  1.656000e+01  1.601667e+01  8.289474e+00   \n",
       "max             3.000000e-01  4.913000e+02  2.855500e+02  2.198750e+01   \n",
       "\n",
       "               col2  \n",
       "count  4.425231e+06  \n",
       "mean   2.075704e-01  \n",
       "std    9.006439e-02  \n",
       "min    1.000000e-01  \n",
       "25%    1.436170e-01  \n",
       "50%    1.832061e-01  \n",
       "75%    2.433673e-01  \n",
       "max    6.000000e-01  "
      ]
     },
     "execution_count": 57,
     "metadata": {},
     "output_type": "execute_result"
    }
   ],
   "source": [
    "df.describe()"
   ]
  },
  {
   "cell_type": "code",
   "execution_count": 58,
   "metadata": {
    "collapsed": true
   },
   "outputs": [],
   "source": [
    "df=df.replace(np.nan,0)"
   ]
  },
  {
   "cell_type": "code",
   "execution_count": 59,
   "metadata": {
    "collapsed": true
   },
   "outputs": [],
   "source": [
    "train,test=train_test_split(df, test_size=0.28, random_state=1212)"
   ]
  },
  {
   "cell_type": "code",
   "execution_count": 60,
   "metadata": {},
   "outputs": [],
   "source": [
    "#features=['VendorID','passenger_count','trip_distance','RatecodeID','store_and_fwd_flag','PULocationID','DOLocationID','payment_type','time','col1']\n",
    "train_X=train[['VendorID','passenger_count','trip_distance','RatecodeID','store_and_fwd_flag','PULocationID','DOLocationID','payment_type','time','col1','col2']]\n",
    "train_Y=train.total_amount\n",
    "test_X=test[['VendorID','passenger_count','trip_distance','RatecodeID','store_and_fwd_flag','PULocationID','DOLocationID','payment_type','time','col1','col2']]\n",
    "test_Y=test.total_amount"
   ]
  },
  {
   "cell_type": "code",
   "execution_count": 61,
   "metadata": {},
   "outputs": [],
   "source": [
    "scaler=StandardScaler()\n",
    "scaler.fit(train_X)  \n",
    "train_X = scaler.transform(train_X)\n",
    "\n",
    "test_X = scaler.transform(test_X)"
   ]
  },
  {
   "cell_type": "code",
   "execution_count": 47,
   "metadata": {},
   "outputs": [
    {
     "data": {
      "text/plain": [
       "0.99383483253910332"
      ]
     },
     "execution_count": 47,
     "metadata": {},
     "output_type": "execute_result"
    }
   ],
   "source": [
    "clf=MLPRegressor()\n",
    "clf.fit(train_X,train_Y)\n",
    "prediction=clf.predict(test_X)\n",
    "metrics.r2_score(test_Y,prediction)"
   ]
  },
  {
   "cell_type": "code",
   "execution_count": 62,
   "metadata": {},
   "outputs": [
    {
     "data": {
      "text/plain": [
       "0.99829334971063366"
      ]
     },
     "execution_count": 62,
     "metadata": {},
     "output_type": "execute_result"
    }
   ],
   "source": [
    "clf=MLPRegressor()\n",
    "clf.fit(train_X,train_Y)\n",
    "prediction=clf.predict(test_X)\n",
    "metrics.r2_score(test_Y,prediction)"
   ]
  },
  {
   "cell_type": "code",
   "execution_count": null,
   "metadata": {
    "collapsed": true
   },
   "outputs": [],
   "source": []
  }
 ],
 "metadata": {
  "kernelspec": {
   "display_name": "Python 3",
   "language": "python",
   "name": "python3"
  },
  "language_info": {
   "codemirror_mode": {
    "name": "ipython",
    "version": 3
   },
   "file_extension": ".py",
   "mimetype": "text/x-python",
   "name": "python",
   "nbconvert_exporter": "python",
   "pygments_lexer": "ipython3",
   "version": "3.6.2"
  }
 },
 "nbformat": 4,
 "nbformat_minor": 2
}
